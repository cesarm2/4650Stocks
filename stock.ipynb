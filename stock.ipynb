{
 "metadata": {
  "language_info": {
   "codemirror_mode": {
    "name": "ipython",
    "version": 3
   },
   "file_extension": ".py",
   "mimetype": "text/x-python",
   "name": "python",
   "nbconvert_exporter": "python",
   "pygments_lexer": "ipython3",
   "version": "3.9.0-final"
  },
  "orig_nbformat": 2,
  "kernelspec": {
   "name": "python3",
   "display_name": "Python 3.9.0 64-bit",
   "metadata": {
    "interpreter": {
     "hash": "a1117060f09de8de53043eede8142601c293a15caef65ab8ed1765e04c295ef2"
    }
   }
  }
 },
 "nbformat": 4,
 "nbformat_minor": 2,
 "cells": [
  {
   "cell_type": "code",
   "execution_count": 2,
   "metadata": {},
   "outputs": [],
   "source": [
    "\n",
    "#name of the company and inital counter for win or lose\n",
    "#If win outnumbers lose then invest \n",
    "companyName = input(\"Enter the company name: \")\n",
    "win = 0\n",
    "lose = 0\n",
    "print(\"\")"
   ]
  },
  {
   "cell_type": "code",
   "execution_count": null,
   "metadata": {},
   "outputs": [],
   "source": [
    "#EPS(Earnings Per Share) tells how to company is doing in their profits or earnings\n",
    "netIncome =int(input(\"Enter company net income: \"))\n",
    "perferredDivideds = int(input(\"Enter company's dividens: \"))\n",
    "common_shares_outstanding = int(input(\"Enter Companys common shares outstanding: \"))\n",
    "eps = int((netIncome - perferredDivideds)/common_shares_outstanding)\n",
    "print(\"The Earnings Per Share is: \" + str(eps))\n",
    "print(\"\")"
   ]
  },
  {
   "cell_type": "code",
   "execution_count": null,
   "metadata": {},
   "outputs": [],
   "source": [
    "#D/E(Debt-To-Equity Ratio)) reflects the ability to of shareholder equity to cover\n",
    "#all outstanding debts, measure companys financial leverage, low risk\n",
    "shortTermDebt = int(input(\"Short term debt: \"))\n",
    "longTerm = int(input(\"Long term debt: \"))\n",
    "sharedholderEquity = int(input(\"Share holders equity: \"))\n",
    "de = int(((shortTermDebt + longTerm)/sharedholderEquity))\n",
    "if de < .3:\n",
    "    print(\"Lower risk Tolerance\")\n",
    "    win =+1\n",
    "else:\n",
    "    print(\"High Risk\")\n",
    "    lose =+1\n",
    "print(\"Debt to Equity Ratio is \" + str(de))\n",
    "\n",
    "print(\"\")"
   ]
  },
  {
   "cell_type": "code",
   "execution_count": null,
   "metadata": {},
   "outputs": [],
   "source": [
    "#P/E(Price-to-Earings), companys share price to its earnings per share\n",
    "#Higher P/E could mean stock is over valued or expecting high growth\n",
    "#Companies with no earnings or that lose money do not have P/E\n",
    "#What are you paying for? \n",
    "averagePE = int(input(\"What is the average P/E Ratio: \"))\n",
    "lowerLimit = averagePE - 1.5\n",
    "upperLimit = averagePE + 1\n",
    "stockPrice = int(input(\"Markets stock: \"))\n",
    "pe = int(stockPrice/eps)\n",
    "if lowerLimit < pe and pe < upperLimit:\n",
    "    print(\"Good P/E Ratio!\")\n",
    "    win =+1\n",
    "else:\n",
    "    print(\"Bad P/E!\")\n",
    "    lose =+1\n",
    "\n",
    "print(\"\")"
   ]
  },
  {
   "cell_type": "code",
   "execution_count": null,
   "metadata": {},
   "outputs": [],
   "source": [
    "#risk ratio\n",
    "riskRatio = 1/pe\n",
    "print(\"Risk ratio for \" + companyName + \" is \" + pe)\n",
    "\n",
    "print(\"\")"
   ]
  },
  {
   "cell_type": "code",
   "execution_count": null,
   "metadata": {},
   "outputs": [],
   "source": [
    "#Percentage gains\n",
    "priceSold = int(input(\"Enter the price it was sold: \"))\n",
    "purchasePrice = int(input(\"Enter purchase price: \"))\n",
    "percentGain = int(((priceSold - purchasePrice)/purchasePrice) * 100)\n",
    "print(percentGain)\n",
    "\n",
    "print(\"\")"
   ]
  },
  {
   "cell_type": "code",
   "execution_count": null,
   "metadata": {},
   "outputs": [],
   "source": [
    "#Price to book ratio compares cost of a stock to the value of the company\n",
    "#if broken up and sold today\n",
    "stockPrice = int(input(\"Enter stock price: \"))\n",
    "priceBook = int(stockPrice/sharedholderEquity)\n",
    "if priceBook > stockPrice:\n",
    "    print(\"Good P/B ratio!\")\n",
    "    win =+1\n",
    "else:\n",
    "    print(\"Bad P/B!\")\n",
    "    lose =+1\n",
    "\n",
    "print(\"\")"
   ]
  },
  {
   "cell_type": "code",
   "execution_count": null,
   "metadata": {},
   "outputs": [],
   "source": [
    "#Price to sales ratio determine the value the market places on each dollar of\n",
    "#a companys revenue\n",
    "#compare to others in the same industry\n",
    "outstandingShares = int(input(\"Enter outstanding shares: \"))\n",
    "totalRevenue = int(input(\"Enter total Revenue: \"))\n",
    "averagePriceSales = int(input(\"Enter the average price sales: \"))\n",
    "priceSales = (int(outstandingShares * stockPrice)/totalRevenue)\n",
    "lowerPS = averagePriceSales - 1.5\n",
    "upperPS = averagePriceSales + 1\n",
    "if lowerPS < priceSales and priceSales < upperPS:\n",
    "    print(\"P/S is good!\")\n",
    "    win =+1\n",
    "else:\n",
    "    print(\"Bad P/S\")\n",
    "    lose =+1\n",
    "\n",
    "print(\"\")"
   ]
  },
  {
   "cell_type": "code",
   "execution_count": null,
   "metadata": {},
   "outputs": [],
   "source": [
    "#find markets for last 3 years\n",
    "firstYear = int(input(\"Enter market price 3 years ago: \"))\n",
    "firstChecks = firstYear * .1\n",
    "newOne = firstYear + firstChecks\n",
    "secondYear = int(input(\"Enter market price 2 years ago: \"))\n",
    "if newOne < secondYear:\n",
    "    print(\"Increase over the years!\")\n",
    "    win =+ 1\n",
    "else:\n",
    "    print(\"There was a loss in profit!\")\n",
    "    lose =+1\n",
    "secondCheck = secondYear * .1\n",
    "newSecond = secondYear + secondCheck\n",
    "thirdYear = int(input(\"Enter market price last year: \"))\n",
    "if newSecond < thirdYear:\n",
    "    print(\"Increase over the year!\")\n",
    "    win =+ 1\n",
    "else:\n",
    "    print(\"There was a loss in profit!\")\n",
    "    lose =+ 1\n",
    "\n",
    "print(\"\")"
   ]
  },
  {
   "cell_type": "code",
   "execution_count": null,
   "metadata": {},
   "outputs": [],
   "source": [
    "#find the market for last 5 months\n",
    "firstMonth = int(input(\"Enter market price 5 months ago: \"))\n",
    "monthOne = firstMonth * .1\n",
    "new_Month1 = firstMonth + monthOne\n",
    "secondMonth = int(input(\"Enter market price 4 months ago: \"))\n",
    "if new_Month1 < secondMonth:\n",
    "    print(\"There was a profit over the month!\")\n",
    "    win =+ 1\n",
    "else:\n",
    "    print(\"There was a loss of profit\")\n",
    "    lose =+ 1\n",
    "monthTwo = secondMonth * .1\n",
    "new_Month2 = secondMonth + monthTwo\n",
    "thirdMonth = int(input(\"Enter market price 3 months ago: \"))\n",
    "if new_Month2 < thirdMonth:\n",
    "    print(\"There was a profit over the month!\")\n",
    "    win =+ 1\n",
    "else:\n",
    "    print(\"There was a loss of profit\")\n",
    "    lose =+ 1\n",
    "monthThree = thirdMonth * .1\n",
    "new_Month3 = thirdMonth + monthThree\n",
    "fourthMonth = int(input(\"Enter market price 2 months ago: \"))\n",
    "if new_Month3 < fourthMonth:\n",
    "    print(\"There was a profit over the month!\")\n",
    "    win =+ 1\n",
    "else:\n",
    "    print(\"There was a loss of profit\")\n",
    "    lose =+ 1\n",
    "monthFourth = fourthMonth * .1\n",
    "new_Month4 = monthFourth + fourthMonth\n",
    "fithMonth = int(input(\"Enter market last month: \"))\n",
    "if new_Month4 < fithMonth:\n",
    "    print(\"There was a profit over the month!\")\n",
    "    win =+ 1\n",
    "else:\n",
    "    print(\"There was a loss of profit\")\n",
    "    lose =+ 1\n",
    "monthAverage = (firstMonth + secondMonth + thirdMonth + fourthMonth + fithMonth)/5\n",
    "print(\"The Average over the months was: \" str(monthAverage))\n",
    "print(\"\")\n"
   ]
  },
  {
   "cell_type": "code",
   "execution_count": null,
   "metadata": {},
   "outputs": [],
   "source": [
    "#find the markets for last 4 weeks\n",
    "firstWeek = int(input(\"Enter markets price 4 weeks ago: \"))\n",
    "weekCheck = firstWeek * .1\n",
    "newFirst = firstWeek + weekCheck\n",
    "secondWeek = int(input(\"Enter markets price 3 weeks ago: \"))\n",
    "if newFirst < secondWeek:\n",
    "    print(\"There was a profit over the month!\")\n",
    "    win =+ 1\n",
    "else:\n",
    "    print(\"There was a loss of profit\")\n",
    "    lose =+ 1\n",
    "weekCheck2 = secondWeek * .1\n",
    "newSecond = secondWeek + weekCheck2\n",
    "thirdWeek = int(input(\"Enter markets price 2 weeks ago: \"))\n",
    "if newSecond < thirdWeek:\n",
    "    print(\"There was a profit over the month!\")\n",
    "    win =+ 1\n",
    "else:\n",
    "    print(\"There was a loss of profit\")\n",
    "    lose =+ 1\n",
    "weekCheck3 = thirdWeek * .1\n",
    "newThird = thirdWeek + weekCheck3\n",
    "lastWeek = int(input(\"Enter last week market price: \"))\n",
    "if newThird < lastWeek:\n",
    "    print(\"There was a profit over the month!\")\n",
    "    win =+ 1\n",
    "else:\n",
    "    print(\"There was a loss of profit\")\n",
    "    lose =+ 1\n",
    "    \n",
    "print(\"\")"
   ]
  },
  {
   "cell_type": "code",
   "execution_count": null,
   "metadata": {},
   "outputs": [],
   "source": [
    "#decides if the investment is worth investing into and replied with a win or lose\n",
    "if win > lose:\n",
    "    print(\"Invest in: \" + companyName)\n",
    "else:\n",
    "    print(\"Do not invest in: \" + companyName)"
   ]
  }
 ]
}